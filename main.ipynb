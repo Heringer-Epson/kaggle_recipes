{
 "cells": [
  {
   "cell_type": "markdown",
   "metadata": {},
   "source": [
    "# Kaggle - Recipe Ingredients \n",
    "\n",
    "https://www.kaggle.com/kaggle/recipe-ingredients-dataset"
   ]
  },
  {
   "cell_type": "code",
   "execution_count": 1,
   "metadata": {},
   "outputs": [],
   "source": [
    "import os\n",
    "import re\n",
    "import numpy as np\n",
    "import pandas as pd\n",
    "import seaborn as sns\n",
    "import matplotlib\n",
    "import matplotlib.pyplot as plt\n",
    "from collections import Counter\n",
    "\n",
    "from nltk import pos_tag\n",
    "from nltk.tokenize import RegexpTokenizer\n",
    "from nltk.corpus import wordnet\n",
    "from nltk.corpus import stopwords\n",
    "from nltk.stem import WordNetLemmatizer\n",
    "\n",
    "from sklearn import svm\n",
    "from sklearn.pipeline import Pipeline\n",
    "from sklearn.feature_extraction.text import CountVectorizer, TfidfVectorizer\n",
    "from sklearn.base import BaseEstimator, ClassifierMixin,  TransformerMixin\n",
    "from sklearn.model_selection import train_test_split\n",
    "from sklearn.metrics import accuracy_score\n",
    "from sklearn.preprocessing import LabelEncoder, OneHotEncoder, MultiLabelBinarizer\n",
    "from sklearn.svm import SVC\n",
    "from sklearn.multiclass import OneVsRestClassifier\n",
    "from sklearn.svm import SVC\n",
    "from sklearn.model_selection import cross_val_score, GridSearchCV\n",
    "\n",
    "%matplotlib inline"
   ]
  },
  {
   "cell_type": "code",
   "execution_count": 2,
   "metadata": {},
   "outputs": [],
   "source": [
    "#Define a list of additiona stopwords.\n",
    "block_words = [\n",
    "    'and',\n",
    "    'fresh',\n",
    "    'salt',\n",
    "    'unsalted',\n",
    "    'chop',\n",
    "    'chopped',\n",
    "    'ground',\n",
    "    'extra',\n",
    "    'virgin',\n",
    "    'clove',\n",
    "    'powder', \n",
    "    'red',\n",
    "    'white',\n",
    "    'purple',\n",
    "    'black',\n",
    "    'yellow',\n",
    "    'green',\n",
    "    'brown',\n",
    "    'bone',\n",
    "    'skin',\n",
    "    'skinless',\n",
    "    'boneless',\n",
    "    'slice',\n",
    "    'fat',\n",
    "    'free',\n",
    "    'fine',\n",
    "    'sauce',\n",
    "    'seed',\n",
    "    'water',\n",
    "    'light',\n",
    "    'heavy',\n",
    "    'half',\n",
    "    'less',\n",
    "    'medium',\n",
    "    'sea',\n",
    "    'kosher',\n",
    "    'bell',\n",
    "    'mince'    \n",
    "  ]"
   ]
  },
  {
   "cell_type": "markdown",
   "metadata": {},
   "source": [
    "### Custom Transformers "
   ]
  },
  {
   "cell_type": "code",
   "execution_count": 3,
   "metadata": {},
   "outputs": [],
   "source": [
    "class PreprocString(BaseEstimator, TransformerMixin):\n",
    "    def __init__(self):\n",
    "        pass\n",
    "\n",
    "    def fit(self, X, y=None):\n",
    "        return self\n",
    "\n",
    "    def transform(self, X):\n",
    "\n",
    "        def nltk2wordnet(nltk_tag):\n",
    "            \"\"\"Dictionary to map NLTK POS tags and word2vec tags. \n",
    "            \"\"\"\n",
    "            if nltk_tag.startswith('J'):\n",
    "                return wordnet.ADJ\n",
    "            elif nltk_tag.startswith('V'):\n",
    "                return wordnet.VERB\n",
    "            elif nltk_tag.startswith('N'):\n",
    "                return wordnet.NOUN\n",
    "            elif nltk_tag.startswith('R'):\n",
    "                return wordnet.ADV\n",
    "            else:          \n",
    "                return None\n",
    "\n",
    "        def word_splitter(ingr_list):\n",
    "\n",
    "            #Replace non-alphabetic characters with white spaces.\n",
    "            tokens = np.hstack([re.sub('[^a-zA-Z]+', ' ', s).split() for s in ingr_list])\n",
    "            \n",
    "            #POS tagging. Tag words as verbs, adverbs and so on.\n",
    "            #tokens = [pos_tag(words) for words in tokens]\n",
    "            tokens = pos_tag(tokens)\n",
    "\n",
    "            #Convert POS tag to wordnet tag. Needed for lemmatizer.\n",
    "            tokens = [(token[0],nltk2wordnet(token[1])) for token in tokens]\n",
    "\n",
    "            #Lemmatize words. I.e., remove conjugation, etc. flowers --> flower.\n",
    "            lemmatizer = WordNetLemmatizer()\n",
    "            tokens = [lemmatizer.lemmatize(token[0], token[1]) for token in tokens\n",
    "                      if token[1] is not None]\n",
    "            \n",
    "            #Assemble lists back to strings to use in TFIDF.\n",
    "            return ' '.join(tokens)\n",
    "        \n",
    "        return [word_splitter(ingredients) for ingredients in X]"
   ]
  },
  {
   "cell_type": "markdown",
   "metadata": {},
   "source": [
    "### Read the Data"
   ]
  },
  {
   "cell_type": "code",
   "execution_count": 4,
   "metadata": {},
   "outputs": [
    {
     "data": {
      "text/html": [
       "<div>\n",
       "<style scoped>\n",
       "    .dataframe tbody tr th:only-of-type {\n",
       "        vertical-align: middle;\n",
       "    }\n",
       "\n",
       "    .dataframe tbody tr th {\n",
       "        vertical-align: top;\n",
       "    }\n",
       "\n",
       "    .dataframe thead th {\n",
       "        text-align: right;\n",
       "    }\n",
       "</style>\n",
       "<table border=\"1\" class=\"dataframe\">\n",
       "  <thead>\n",
       "    <tr style=\"text-align: right;\">\n",
       "      <th></th>\n",
       "      <th>id</th>\n",
       "      <th>cuisine</th>\n",
       "      <th>ingredients</th>\n",
       "    </tr>\n",
       "  </thead>\n",
       "  <tbody>\n",
       "    <tr>\n",
       "      <th>0</th>\n",
       "      <td>10259</td>\n",
       "      <td>greek</td>\n",
       "      <td>[romaine lettuce, black olives, grape tomatoes...</td>\n",
       "    </tr>\n",
       "    <tr>\n",
       "      <th>1</th>\n",
       "      <td>25693</td>\n",
       "      <td>southern_us</td>\n",
       "      <td>[plain flour, ground pepper, salt, tomatoes, g...</td>\n",
       "    </tr>\n",
       "    <tr>\n",
       "      <th>2</th>\n",
       "      <td>20130</td>\n",
       "      <td>filipino</td>\n",
       "      <td>[eggs, pepper, salt, mayonaise, cooking oil, g...</td>\n",
       "    </tr>\n",
       "    <tr>\n",
       "      <th>3</th>\n",
       "      <td>22213</td>\n",
       "      <td>indian</td>\n",
       "      <td>[water, vegetable oil, wheat, salt]</td>\n",
       "    </tr>\n",
       "    <tr>\n",
       "      <th>4</th>\n",
       "      <td>13162</td>\n",
       "      <td>indian</td>\n",
       "      <td>[black pepper, shallots, cornflour, cayenne pe...</td>\n",
       "    </tr>\n",
       "  </tbody>\n",
       "</table>\n",
       "</div>"
      ],
      "text/plain": [
       "      id      cuisine                                        ingredients\n",
       "0  10259        greek  [romaine lettuce, black olives, grape tomatoes...\n",
       "1  25693  southern_us  [plain flour, ground pepper, salt, tomatoes, g...\n",
       "2  20130     filipino  [eggs, pepper, salt, mayonaise, cooking oil, g...\n",
       "3  22213       indian                [water, vegetable oil, wheat, salt]\n",
       "4  13162       indian  [black pepper, shallots, cornflour, cayenne pe..."
      ]
     },
     "execution_count": 4,
     "metadata": {},
     "output_type": "execute_result"
    }
   ],
   "source": [
    "#Read and inspect input data.\n",
    "train = pd.read_json('../input/train.json')\n",
    "test = pd.read_json('../input/test.json')\n",
    "train.head()"
   ]
  },
  {
   "cell_type": "code",
   "execution_count": 5,
   "metadata": {},
   "outputs": [
    {
     "name": "stdout",
     "output_type": "stream",
     "text": [
      "(39774, 3)\n",
      "(9944, 2)\n"
     ]
    }
   ],
   "source": [
    "print(train.shape)\n",
    "print(test.shape)"
   ]
  },
  {
   "cell_type": "markdown",
   "metadata": {},
   "source": [
    "### Impute cuisine as NaN in the test data\n",
    "This will make concatenating the train and test data easier, which is important when cleaning the whole data to remove tokens that do not appear in many documents."
   ]
  },
  {
   "cell_type": "code",
   "execution_count": 6,
   "metadata": {},
   "outputs": [],
   "source": [
    "train['is_train'] = np.ones(train.shape[0])\n",
    "test['is_train'] = np.zeros(test.shape[0])"
   ]
  },
  {
   "cell_type": "code",
   "execution_count": 7,
   "metadata": {},
   "outputs": [],
   "source": [
    "nan_array = np.empty(test.shape[0])\n",
    "nan_array[:] = np.nan\n",
    "test['cuisine'] = nan_array"
   ]
  },
  {
   "cell_type": "markdown",
   "metadata": {},
   "source": [
    "### Label Distribution"
   ]
  },
  {
   "cell_type": "code",
   "execution_count": 8,
   "metadata": {},
   "outputs": [
    {
     "name": "stdout",
     "output_type": "stream",
     "text": [
      "There are 20 unique lables\n"
     ]
    },
    {
     "data": {
      "text/plain": [
       "array(['greek', 'southern_us', 'filipino', 'indian', 'jamaican',\n",
       "       'spanish', 'italian', 'mexican', 'chinese', 'british', 'thai',\n",
       "       'vietnamese', 'cajun_creole', 'brazilian', 'french', 'japanese',\n",
       "       'irish', 'korean', 'moroccan', 'russian'], dtype=object)"
      ]
     },
     "execution_count": 8,
     "metadata": {},
     "output_type": "execute_result"
    }
   ],
   "source": [
    "labels = train['cuisine'].unique()\n",
    "print('There are %d unique lables' %len(labels))\n",
    "labels"
   ]
  },
  {
   "cell_type": "code",
   "execution_count": 9,
   "metadata": {},
   "outputs": [
    {
     "data": {
      "text/plain": [
       "Text(0, 0.5, 'Number of Recipes')"
      ]
     },
     "execution_count": 9,
     "metadata": {},
     "output_type": "execute_result"
    },
    {
     "data": {
      "image/png": "[encoded data removed]",
      "text/plain": [
       "<Figure size 432x288 with 1 Axes>"
      ]
     },
     "metadata": {
      "needs_background": "light"
     },
     "output_type": "display_data"
    }
   ],
   "source": [
    "df_aux = train.groupby(['cuisine'])['id'].count()\n",
    "ax = df_aux.plot(kind='bar')\n",
    "ax.set_ylabel('Number of Recipes')"
   ]
  },
  {
   "cell_type": "markdown",
   "metadata": {},
   "source": [
    "# Data Preprocessing"
   ]
  },
  {
   "cell_type": "markdown",
   "metadata": {},
   "source": [
    "### Combine train and test ingredients for data investigation"
   ]
  },
  {
   "cell_type": "code",
   "execution_count": 10,
   "metadata": {},
   "outputs": [
    {
     "data": {
      "text/plain": [
       "(49718, 4)"
      ]
     },
     "execution_count": 10,
     "metadata": {},
     "output_type": "execute_result"
    }
   ],
   "source": [
    "all_data = pd.concat((train, test), sort=False).reset_index(drop=True)\n",
    "all_data.shape"
   ]
  },
  {
   "cell_type": "markdown",
   "metadata": {},
   "source": [
    "### Process the list of ingredients\n",
    "\n",
    "See class PreprocString above.\n",
    "In summary: remove non-alphabetic characters, lemmatize tokens and get concatenated strings per recipe for the application of CountVectorizer."
   ]
  },
  {
   "cell_type": "code",
   "execution_count": 15,
   "metadata": {
    "scrolled": true
   },
   "outputs": [
    {
     "data": {
      "text/plain": [
       "['romaine lettuce black olives grape tomato garlic pepper purple onion season garbanzo bean feta cheese crumbles',\n",
       " 'plain flour ground salt tomato grind black pepper thyme egg green tomato yellow corn meal milk vegetable oil',\n",
       " 'egg pepper salt mayonaise cooking oil green chilies grill chicken breast garlic powder yellow onion soy sauce butter chicken liver',\n",
       " 'water vegetable oil wheat salt',\n",
       " 'black pepper shallot cornflour cayenne pepper onion garlic paste milk butter salt lemon juice water chili powder passata oil ground cumin boneless chicken skinless thigh garam masala double cream natural yogurt bay leaf']"
      ]
     },
     "execution_count": 15,
     "metadata": {},
     "output_type": "execute_result"
    }
   ],
   "source": [
    "ps = PreprocString()\n",
    "filtered_ingr = ps.fit_transform(all_data['ingredients'].values)\n",
    "filtered_ingr[0:5]"
   ]
  },
  {
   "cell_type": "markdown",
   "metadata": {},
   "source": [
    "### Create a bag of words"
   ]
  },
  {
   "cell_type": "code",
   "execution_count": 16,
   "metadata": {},
   "outputs": [
    {
     "data": {
      "text/plain": [
       "<49718x1479 sparse matrix of type '<class 'numpy.int64'>'\n",
       "\twith 707190 stored elements in Compressed Sparse Row format>"
      ]
     },
     "execution_count": 16,
     "metadata": {},
     "output_type": "execute_result"
    }
   ],
   "source": [
    "cv = CountVectorizer(stop_words=block_words, min_df=10)\n",
    "cv_fit = cv.fit_transform(filtered_ingr)\n",
    "cv_fit"
   ]
  },
  {
   "cell_type": "code",
   "execution_count": 17,
   "metadata": {},
   "outputs": [],
   "source": [
    "word_list = cv.get_feature_names();\n",
    "count_list = cv_fit.toarray().sum(axis=0)  "
   ]
  },
  {
   "cell_type": "code",
   "execution_count": 18,
   "metadata": {},
   "outputs": [
    {
     "name": "stdout",
     "output_type": "stream",
     "text": [
      "(1479, 3)\n"
     ]
    },
    {
     "data": {
      "text/html": [
       "<div>\n",
       "<style scoped>\n",
       "    .dataframe tbody tr th:only-of-type {\n",
       "        vertical-align: middle;\n",
       "    }\n",
       "\n",
       "    .dataframe tbody tr th {\n",
       "        vertical-align: top;\n",
       "    }\n",
       "\n",
       "    .dataframe thead th {\n",
       "        text-align: right;\n",
       "    }\n",
       "</style>\n",
       "<table border=\"1\" class=\"dataframe\">\n",
       "  <thead>\n",
       "    <tr style=\"text-align: right;\">\n",
       "      <th></th>\n",
       "      <th>index</th>\n",
       "      <th>Ingredient</th>\n",
       "      <th>Count</th>\n",
       "    </tr>\n",
       "  </thead>\n",
       "  <tbody>\n",
       "    <tr>\n",
       "      <th>0</th>\n",
       "      <td>880</td>\n",
       "      <td>oil</td>\n",
       "      <td>29102</td>\n",
       "    </tr>\n",
       "    <tr>\n",
       "      <th>1</th>\n",
       "      <td>886</td>\n",
       "      <td>onion</td>\n",
       "      <td>24049</td>\n",
       "    </tr>\n",
       "    <tr>\n",
       "      <th>2</th>\n",
       "      <td>533</td>\n",
       "      <td>garlic</td>\n",
       "      <td>23624</td>\n",
       "    </tr>\n",
       "    <tr>\n",
       "      <th>3</th>\n",
       "      <td>951</td>\n",
       "      <td>pepper</td>\n",
       "      <td>23214</td>\n",
       "    </tr>\n",
       "    <tr>\n",
       "      <th>4</th>\n",
       "      <td>1299</td>\n",
       "      <td>sugar</td>\n",
       "      <td>15650</td>\n",
       "    </tr>\n",
       "  </tbody>\n",
       "</table>\n",
       "</div>"
      ],
      "text/plain": [
       "   index Ingredient  Count\n",
       "0    880        oil  29102\n",
       "1    886      onion  24049\n",
       "2    533     garlic  23624\n",
       "3    951     pepper  23214\n",
       "4   1299      sugar  15650"
      ]
     },
     "execution_count": 18,
     "metadata": {},
     "output_type": "execute_result"
    }
   ],
   "source": [
    "df_counts = pd.DataFrame.from_dict({'Ingredient':word_list, 'Count':count_list})\n",
    "df_counts.sort_values(by=['Count'], inplace=True, ascending=False)\n",
    "df_counts.reset_index(inplace=True)\n",
    "print(df_counts.shape)\n",
    "df_counts.head()"
   ]
  },
  {
   "cell_type": "markdown",
   "metadata": {},
   "source": [
    "### Distribution of post-processed tokens in the whole corpus"
   ]
  },
  {
   "cell_type": "code",
   "execution_count": 19,
   "metadata": {},
   "outputs": [
    {
     "data": {
      "image/png": "[encoded data removed]",
      "text/plain": [
       "<Figure size 1080x2880 with 1 Axes>"
      ]
     },
     "metadata": {
      "needs_background": "light"
     },
     "output_type": "display_data"
    }
   ],
   "source": [
    "f, ax = plt.subplots(figsize=(15, 40))\n",
    "sns.set(font_scale=0.8)\n",
    "ax = sns.barplot(x='Count', y='Ingredient', data=df_counts[0:200])"
   ]
  },
  {
   "cell_type": "markdown",
   "metadata": {},
   "source": [
    "### Distribution of Number of Ingredients (after text processing)"
   ]
  },
  {
   "cell_type": "code",
   "execution_count": 20,
   "metadata": {},
   "outputs": [],
   "source": [
    "count_tokens_per_doc = cv_fit.toarray().sum(axis=1)  "
   ]
  },
  {
   "cell_type": "code",
   "execution_count": 21,
   "metadata": {},
   "outputs": [
    {
     "name": "stdout",
     "output_type": "stream",
     "text": [
      "Minimum number documents with zero tokens 3\n",
      "Indexes are:  [[ 3670]\n",
      " [21335]\n",
      " [32105]]\n"
     ]
    }
   ],
   "source": [
    "print('Minimum number documents with zero tokens %d' %len(np.where(count_tokens_per_doc == 0)[0]))\n",
    "print('Indexes are: ', np.argwhere(count_tokens_per_doc == 0))"
   ]
  },
  {
   "cell_type": "code",
   "execution_count": 22,
   "metadata": {},
   "outputs": [
    {
     "name": "stdout",
     "output_type": "stream",
     "text": [
      "id                              2444\n",
      "cuisine                  southern_us\n",
      "ingredients    [greens, kosher salt]\n",
      "is_train                           1\n",
      "Name: 3670, dtype: object\n",
      "id                                 23612\n",
      "cuisine                         jamaican\n",
      "ingredients    [salt, water, breadfruit]\n",
      "is_train                               1\n",
      "Name: 21335, dtype: object\n",
      "id                12805\n",
      "cuisine        japanese\n",
      "ingredients     [water]\n",
      "is_train              1\n",
      "Name: 32105, dtype: object\n"
     ]
    }
   ],
   "source": [
    "print(all_data.iloc[3670])\n",
    "print(all_data.iloc[21335])\n",
    "print(all_data.iloc[32105])"
   ]
  },
  {
   "cell_type": "markdown",
   "metadata": {},
   "source": [
    "All the documents with 0 tokens are in the **train** sample and can be removed"
   ]
  },
  {
   "cell_type": "code",
   "execution_count": 23,
   "metadata": {},
   "outputs": [
    {
     "name": "stdout",
     "output_type": "stream",
     "text": [
      "(49718, 4)\n",
      "The following indexes can be dropped:  [ 3670 21335 32105]\n",
      "(49715, 4)\n"
     ]
    }
   ],
   "source": [
    "drop_idx = np.hstack(np.argwhere(count_tokens_per_doc == 0))\n",
    "print(all_data.shape)\n",
    "print('The following indexes can be dropped: ', drop_idx)\n",
    "all_data.drop(drop_idx, inplace=True)\n",
    "print(all_data.shape)"
   ]
  },
  {
   "cell_type": "code",
   "execution_count": 24,
   "metadata": {},
   "outputs": [
    {
     "name": "stdout",
     "output_type": "stream",
     "text": [
      "Largest number of tokens in a doc is:  104\n"
     ]
    }
   ],
   "source": [
    "print('Largest number of tokens in a doc is: ', max(count_tokens_per_doc))"
   ]
  },
  {
   "cell_type": "code",
   "execution_count": 25,
   "metadata": {},
   "outputs": [
    {
     "data": {
      "image/png": "[encoded data removed]",
      "text/plain": [
       "<Figure size 1080x720 with 1 Axes>"
      ]
     },
     "metadata": {},
     "output_type": "display_data"
    }
   ],
   "source": [
    "f, ax = plt.subplots(figsize=(15, 10))\n",
    "ax.hist(count_tokens_per_doc, bins=np.arange(0,max(count_tokens_per_doc) + 1))\n",
    "plt.show()"
   ]
  },
  {
   "cell_type": "markdown",
   "metadata": {},
   "source": [
    "# Model training"
   ]
  },
  {
   "cell_type": "markdown",
   "metadata": {},
   "source": [
    "### Prepare the data"
   ]
  },
  {
   "cell_type": "code",
   "execution_count": 27,
   "metadata": {},
   "outputs": [],
   "source": [
    "#We will have to vectorize the data again since rows have been dropped.\n",
    "\n",
    "#Create a pipeline.\n",
    "preproc = PreprocString()\n",
    "tfidf = TfidfVectorizer(stop_words=block_words, min_df=10)\n",
    "\n",
    "pipe = Pipeline([\n",
    "    ('preproc', preproc),\n",
    "    ('tfidf', tfidf),\n",
    "])"
   ]
  },
  {
   "cell_type": "code",
   "execution_count": 28,
   "metadata": {},
   "outputs": [],
   "source": [
    "vec_all_data = pipe.fit_transform(all_data['ingredients'].values)"
   ]
  },
  {
   "cell_type": "code",
   "execution_count": 34,
   "metadata": {},
   "outputs": [],
   "source": [
    "#Recover the train and test portions after using the whole text for vectorization.\n",
    "train_updated = all_data[all_data['is_train']==1]\n",
    "n_train = train_updated.shape[0]\n",
    "\n",
    "X_train = vec_all_data[:n_train]\n",
    "y_train_raw = train_updated['cuisine'].values\n",
    "X_test = vec_all_data[n_train:]"
   ]
  },
  {
   "cell_type": "markdown",
   "metadata": {},
   "source": [
    "### Encode the labels"
   ]
  },
  {
   "cell_type": "code",
   "execution_count": 36,
   "metadata": {},
   "outputs": [
    {
     "data": {
      "text/plain": [
       "(39771, 20)"
      ]
     },
     "execution_count": 36,
     "metadata": {},
     "output_type": "execute_result"
    }
   ],
   "source": [
    "le = OneHotEncoder()\n",
    "y_train = le.fit_transform(y_train_raw.reshape(-1, 1)).toarray()\n",
    "y_train.shape"
   ]
  },
  {
   "cell_type": "markdown",
   "metadata": {},
   "source": [
    "### Grid Search for best linear SVM C\n",
    "The linear SVM algorithm is a good method to classify text data. This is because it fares well in high dimensional spaces where the data tend to cluster."
   ]
  },
  {
   "cell_type": "code",
   "execution_count": 43,
   "metadata": {},
   "outputs": [
    {
     "name": "stdout",
     "output_type": "stream",
     "text": [
      "Fitting 3 folds for each of 5 candidates, totalling 15 fits\n"
     ]
    },
    {
     "name": "stderr",
     "output_type": "stream",
     "text": [
      "[Parallel(n_jobs=6)]: Using backend LokyBackend with 6 concurrent workers.\n",
      "/home/heringer/anaconda2/envs/py37/lib/python3.6/site-packages/joblib/externals/loky/process_executor.py:706: UserWarning: A worker stopped while some jobs were given to the executor. This can be caused by a too short worker timeout or by a memory leak.\n",
      "  \"timeout or by a memory leak.\", UserWarning\n",
      "[Parallel(n_jobs=6)]: Done  12 out of  15 | elapsed: 10.0min remaining:  2.5min\n",
      "[Parallel(n_jobs=6)]: Done  15 out of  15 | elapsed: 14.1min finished\n"
     ]
    },
    {
     "name": "stdout",
     "output_type": "stream",
     "text": [
      "0.6602801035930703\n",
      "{'estimator__C': 4.109999999999999}\n",
      "CPU times: user 6min 58s, sys: 595 ms, total: 6min 59s\n",
      "Wall time: 21min 5s\n"
     ]
    }
   ],
   "source": [
    "%%time\n",
    "model_to_set = OneVsRestClassifier(svm.SVC(kernel='linear', gamma='scale', random_state=42))\n",
    "\n",
    "parameters = {\"estimator__C\": np.arange(3.81,4.41,.1)}\n",
    "\n",
    "model_tunning = GridSearchCV(model_to_set, param_grid=parameters,\n",
    "                             n_jobs=6, cv=3, scoring='accuracy', verbose=2)\n",
    "\n",
    "model_tunning.fit(X_train, y_train)\n",
    "\n",
    "print(model_tunning.best_score_)\n",
    "print(model_tunning.best_params_)"
   ]
  },
  {
   "cell_type": "code",
   "execution_count": 46,
   "metadata": {},
   "outputs": [
    {
     "data": {
      "text/plain": [
       "4.109999999999999"
      ]
     },
     "execution_count": 46,
     "metadata": {},
     "output_type": "execute_result"
    }
   ],
   "source": [
    "best_C = model_tunning.best_params_['estimator__C']"
   ]
  },
  {
   "cell_type": "markdown",
   "metadata": {},
   "source": [
    "### Train best SVM model with whole train data"
   ]
  },
  {
   "cell_type": "code",
   "execution_count": 53,
   "metadata": {},
   "outputs": [
    {
     "name": "stdout",
     "output_type": "stream",
     "text": [
      "CPU times: user 7min 10s, sys: 59.7 ms, total: 7min 10s\n",
      "Wall time: 7min 10s\n"
     ]
    },
    {
     "data": {
      "text/plain": [
       "OneVsRestClassifier(estimator=SVC(C=4.109999999999999, cache_size=200,\n",
       "                                  class_weight=None, coef0=0.0,\n",
       "                                  decision_function_shape='ovr', degree=3,\n",
       "                                  gamma='scale', kernel='linear', max_iter=-1,\n",
       "                                  probability=False, random_state=42,\n",
       "                                  shrinking=True, tol=0.001, verbose=False),\n",
       "                    n_jobs=None)"
      ]
     },
     "execution_count": 53,
     "metadata": {},
     "output_type": "execute_result"
    }
   ],
   "source": [
    "%%time\n",
    "model = OneVsRestClassifier(svm.SVC(kernel='linear', gamma='scale', C=best_C, random_state=42))\n",
    "model.fit(X_train, y_train)"
   ]
  },
  {
   "cell_type": "code",
   "execution_count": 54,
   "metadata": {},
   "outputs": [
    {
     "name": "stdout",
     "output_type": "stream",
     "text": [
      "Accuracy on train data: 0.733\n"
     ]
    }
   ],
   "source": [
    "#Performance on the train data\n",
    "y_train_pred = model.predict(X_train)\n",
    "y_train_pred = le.inverse_transform(y_train_pred).flatten()\n",
    "print('Accuracy on train data: %.3f' %accuracy_score(y_train_pred, y_train_raw))"
   ]
  },
  {
   "cell_type": "markdown",
   "metadata": {},
   "source": [
    "### Produce submission file"
   ]
  },
  {
   "cell_type": "code",
   "execution_count": 55,
   "metadata": {},
   "outputs": [],
   "source": [
    "#Performance on the test data\n",
    "y_pred = model.predict(X_test)\n",
    "y_pred = le.inverse_transform(y_pred).flatten()"
   ]
  },
  {
   "cell_type": "code",
   "execution_count": 63,
   "metadata": {},
   "outputs": [],
   "source": [
    "ids = all_data[n_train:]['id'].values\n",
    "\n",
    "fpath = './../submission.csv'\n",
    "df_out = pd.DataFrame.from_dict({'id': ids, 'cuisine': y_pred})\n",
    "df_out.to_csv(fpath, index=False)"
   ]
  },
  {
   "cell_type": "code",
   "execution_count": null,
   "metadata": {},
   "outputs": [],
   "source": []
  }
 ],
 "metadata": {
  "kernelspec": {
   "display_name": "Python 3",
   "language": "python",
   "name": "python3"
  },
  "language_info": {
   "codemirror_mode": {
    "name": "ipython",
    "version": 3
   },
   "file_extension": ".py",
   "mimetype": "text/x-python",
   "name": "python",
   "nbconvert_exporter": "python",
   "pygments_lexer": "ipython3",
   "version": "3.6.7"
  }
 },
 "nbformat": 4,
 "nbformat_minor": 2
}
